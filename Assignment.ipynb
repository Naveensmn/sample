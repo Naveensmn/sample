{
    "cells": [
        {
            "metadata": {
                "collapsed": true
            },
            "cell_type": "markdown",
            "source": "<H1>My Jupyter Notebook on IBM Watson Studio</H1>"
        },
        {
            "metadata": {},
            "cell_type": "markdown",
            "source": "<b>NAVEEN KUMAR M</b>"
        },
        {
            "metadata": {},
            "cell_type": "markdown",
            "source": "STUDENT"
        },
        {
            "metadata": {},
            "cell_type": "markdown",
            "source": "<I>I am interested in Data science because of it's growth in the recent years and to play with data.</I>"
        },
        {
            "metadata": {},
            "cell_type": "markdown",
            "source": "<H3>My below code statement will display the  \"LET'S LEARN GUYS\".</H3>"
        },
        {
            "metadata": {},
            "cell_type": "code",
            "source": "print(\"LET'S LEARN GUYS\")",
            "execution_count": 1,
            "outputs": [
                {
                    "output_type": "stream",
                    "text": "LET'S LEARN GUYS\n",
                    "name": "stdout"
                }
            ]
        },
        {
            "metadata": {},
            "cell_type": "markdown",
            "source": "<hr>\n\n<ol>\n    <li>volume</li>\n    <li>variety</li>\n    <li>velocity</li>\n    <li>veracity</li>\n    <li>value</li>\n</ol>\n\n<ul>\n    <li>vone</li>\n    <li>two</li>\n    <li>three</li>\n</ul>\n\n|Name|Age|Height|\n|-----:|-----:|-----:|\n|Naveen|19|170|\n|Kumar|20|165|"
        }
    ],
    "metadata": {
        "kernelspec": {
            "name": "python3",
            "display_name": "Python 3.9",
            "language": "python"
        },
        "language_info": {
            "name": "python",
            "version": "3.9.13",
            "mimetype": "text/x-python",
            "codemirror_mode": {
                "name": "ipython",
                "version": 3
            },
            "pygments_lexer": "ipython3",
            "nbconvert_exporter": "python",
            "file_extension": ".py"
        }
    },
    "nbformat": 4,
    "nbformat_minor": 1
}